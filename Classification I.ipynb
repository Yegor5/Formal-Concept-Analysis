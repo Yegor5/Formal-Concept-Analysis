{
 "cells": [
  {
   "cell_type": "markdown",
   "id": "51d73ae2-9e63-4d48-977d-91442df8b6b8",
   "metadata": {},
   "source": [
    "# Классификация (1-ая часть)"
   ]
  },
  {
   "cell_type": "markdown",
   "id": "5afb6e10-3d5a-43d2-807b-9fd4d1394f0b",
   "metadata": {},
   "source": [
    "### Постановка задачи: \n",
    "#### Обучающая выборка разбита на два класса: положительный и отрицательный. Данные для обучения описываются положительным и отрицательным контекстами. Необходимо классифицировать новые объекты либо в положительный, либо в отрицательный класс, либо же отказаться от классификации. "
   ]
  },
  {
   "cell_type": "code",
   "execution_count": 1,
   "id": "dc5b9a38-182e-41d8-aa2d-7bf467fe5dde",
   "metadata": {},
   "outputs": [],
   "source": [
    "import numpy as np\n",
    "import pandas as pd\n",
    "\n",
    "\n",
    "def f(s, graph):\n",
    "    global ans_graph\n",
    "    global repeat\n",
    "    if s in repeat:\n",
    "        ans_graph = 0\n",
    "        return\n",
    "    for g in graph:\n",
    "        if g[0] == s:\n",
    "            f(g[1], graph)\n",
    "    return"
   ]
  },
  {
   "cell_type": "markdown",
   "id": "ef91e05c-c8d3-4640-afe9-da145ca0fdf9",
   "metadata": {},
   "source": [
    "#### Введем данные для положительного класса"
   ]
  },
  {
   "cell_type": "code",
   "execution_count": null,
   "id": "e73e004a-5c15-4883-86e0-9bcd70c9b078",
   "metadata": {},
   "outputs": [],
   "source": [
    "n_plus, m_plus = map(int, input().split())\n",
    "mas_plus = np.empty((n_plus, m_plus), dtype=int)\n",
    "for i in range(n_plus):\n",
    "    mas_plus[i] = np.array(list(map(int, input().split())))"
   ]
  },
  {
   "cell_type": "markdown",
   "id": "8c25914c-53c5-4be7-9707-80aeb8aefe4f",
   "metadata": {},
   "source": [
    "#### И для отрицательного класса"
   ]
  },
  {
   "cell_type": "code",
   "execution_count": null,
   "id": "fece4c6e-f571-48f5-a9da-93f9385c4562",
   "metadata": {},
   "outputs": [],
   "source": [
    "n_minus, m_minus = map(int, input().split())\n",
    "mas_minus = np.empty((n_minus, m_minus), dtype=int)\n",
    "for i in range(n_minus):\n",
    "    mas_minus[i] = np.array(list(map(int, input().split())))"
   ]
  },
  {
   "cell_type": "markdown",
   "id": "8230ef6d-8e4b-421f-89c3-3bee5c84ef6d",
   "metadata": {},
   "source": [
    "#### Теперь построим решетку формальных понятий для положительного класса. Для этого пройдемся по всем возможным объединениям объектов обучающей выборки и построим для них формальные содержания. Из двух формальных объемов с двумя одинаковыми формальными содержаниями выбирается тот, у кого объем больше. После этого строится граф. Для каждой формального понятия отыскиваются такие другие понятия, что объем изначального является подмножеством объемов отыскиваемых. Далее проверяем, что между двумя вершинами уже нет пути, и соединяем их "
   ]
  },
  {
   "cell_type": "code",
   "execution_count": null,
   "id": "ebc71591-e751-4431-8321-28e382556ea8",
   "metadata": {},
   "outputs": [],
   "source": [
    "lattice_plus = list([(np.array([], dtype=int), np.array([1 for i in range(m_plus)]))])\n",
    "graph_plus = []\n",
    "hypotheses_plus = np.empty((0, m_plus))\n",
    "ans_graph = 0\n",
    "current = 1\n",
    "\n",
    "\n",
    "for i in range(1, 1 << n_plus):\n",
    "    vector = np.ones(m_plus, dtype=int)\n",
    "    arr = np.array([], dtype=int)\n",
    "    mis = np.array([], dtype=int)\n",
    "    y = 1\n",
    "    for j in range(n_plus):\n",
    "        if i % (2*y) // y:\n",
    "            vector = np.bitwise_and(vector, mas_plus[j])\n",
    "            arr = np.append(arr, j)\n",
    "        y *= 2\n",
    "    for j in range(n_plus):\n",
    "        if (np.bitwise_and(vector, mas_plus[j]) == vector).all():\n",
    "            mis = np.append(mis, j)\n",
    "    y = 0\n",
    "    if np.array_equal(mis, arr):\n",
    "        repeat = set()\n",
    "        for j in range(len(lattice_plus) - 1, -1, -1):\n",
    "            if set(lattice_plus[j][0]) <= set(arr):\n",
    "                ans_graph = 1\n",
    "                f(j, graph_plus)\n",
    "                yy = ans_graph\n",
    "                if yy:\n",
    "                    graph_plus.append((j, current))\n",
    "                    repeat.add(j)\n",
    "                    y = 1\n",
    "        if y:\n",
    "            lattice_plus.append((arr, vector))\n",
    "            current += 1"
   ]
  },
  {
   "cell_type": "markdown",
   "id": "014b200a-94be-4675-93ed-f034a87acfb0",
   "metadata": {},
   "source": [
    "#### И также построим решетку для отрицательного класса"
   ]
  },
  {
   "cell_type": "code",
   "execution_count": null,
   "id": "0229cdf1-932e-42c4-ab81-3387bdceb714",
   "metadata": {},
   "outputs": [],
   "source": [
    "lattice_minus = list([(np.array([], dtype=int), np.array([1 for i in range(m_minus)]))])\n",
    "graph_minus = []\n",
    "hypotheses_minus = np.empty((0, m_minus))\n",
    "ans_graph = 0\n",
    "current = 1\n",
    "\n",
    "\n",
    "for i in range(1, 1 << n_minus):\n",
    "    vector = np.ones(m_minus, dtype=int)\n",
    "    arr = np.array([], dtype=int)\n",
    "    mis = np.array([], dtype=int)\n",
    "    y = 1\n",
    "    for j in range(n_minus):\n",
    "        if i % (2*y) // y:\n",
    "            vector = np.bitwise_and(vector, mas_minus[j])\n",
    "            arr = np.append(arr, j)\n",
    "        y *= 2\n",
    "    for j in range(n_minus):\n",
    "        if (np.bitwise_and(vector, mas_minus[j]) == vector).all():\n",
    "            mis = np.append(mis, j)\n",
    "    y = 0\n",
    "    if np.array_equal(mis, arr):\n",
    "        repeat = set()\n",
    "        for j in range(len(lattice_minus) - 1, -1, -1):\n",
    "            if set(lattice_minus[j][0]) <= set(arr):\n",
    "                ans_graph = 1\n",
    "                f(j, graph_minus)\n",
    "                yy = ans_graph\n",
    "                if yy:\n",
    "                    graph_minus.append((j, current))\n",
    "                    repeat.add(j)\n",
    "                    y = 1\n",
    "        if y:\n",
    "            lattice_minus.append((arr, vector))\n",
    "            current += 1"
   ]
  },
  {
   "cell_type": "markdown",
   "id": "289c5a86-45ea-42a9-8b9a-c8f9aae7d557",
   "metadata": {},
   "source": [
    "#### Теперь сформируем гипотезы. Для этого сначала соберем все содержания формальных понятий и исключим оттуда все фальсифицированные гипотезы, то есть те, которые являются подмножествами какого-то содержания понятия другого класса. Затем оставим лишь те гипотезы, которые не включают в себя какие-то другие гипотезы, то есть выберем минимальные гипотезы"
   ]
  },
  {
   "cell_type": "code",
   "execution_count": null,
   "id": "a26f4f55-3358-4b92-a2d8-ccb85bfa589f",
   "metadata": {},
   "outputs": [],
   "source": [
    "for_delete = set()\n",
    "for i in lattice_plus:\n",
    "    hypotheses_plus = np.vstack((hypotheses_plus, i[1]))\n",
    "for i in range(len(hypotheses_plus)):\n",
    "    for j in lattice_minus[1:]:\n",
    "        if (hypotheses_plus[i] <= j[1]).all():\n",
    "            for_delete.add(i)\n",
    "for_delete = list(for_delete)\n",
    "for i in for_delete[::-1]:\n",
    "    hypotheses_plus = np.delete(hypotheses_plus, i, 0)\n",
    "for_delete = set()\n",
    "for i in range(len(hypotheses_plus)):\n",
    "    for j in range(len(hypotheses_plus)):\n",
    "        if i != j and (hypotheses_plus[i] >= hypotheses_plus[j]).all():\n",
    "            for_delete.add(i)\n",
    "for_delete = list(for_delete)\n",
    "for i in for_delete[::-1]:\n",
    "    hypotheses_plus = np.delete(hypotheses_plus, i, 0)\n",
    "    \n",
    "\n",
    "for_delete = set()\n",
    "for i in lattice_minus:\n",
    "    hypotheses_minus = np.vstack((hypotheses_minus, i[1]))\n",
    "for i in range(len(hypotheses_minus)):\n",
    "    for j in lattice_plus[1:]:\n",
    "        if (hypotheses_minus[i] <= j[1]).all():\n",
    "            for_delete.add(i)\n",
    "for_delete = list(for_delete)\n",
    "for i in for_delete[::-1]:\n",
    "    hypotheses_minus = np.delete(hypotheses_minus, i, 0)\n",
    "for_delete = set()\n",
    "for i in range(len(hypotheses_minus)):\n",
    "    for j in range(len(hypotheses_minus)):\n",
    "        if i != j and (hypotheses_minus[i] >= hypotheses_minus[j]).all():\n",
    "            for_delete.add(i)\n",
    "for_delete = list(for_delete)\n",
    "for i in for_delete[::-1]:\n",
    "    hypotheses_minus = np.delete(hypotheses_minus, i, 0)"
   ]
  },
  {
   "cell_type": "markdown",
   "id": "8272cadd-7e1b-475e-b4c3-e82bdbb4d370",
   "metadata": {},
   "source": [
    "#### Теперь мы можем классифицировать новые объекты"
   ]
  },
  {
   "cell_type": "code",
   "execution_count": null,
   "id": "014e87a7-1ee8-43a6-819d-6c0b42722601",
   "metadata": {},
   "outputs": [],
   "source": [
    "num = int(input())\n",
    "for i in range(num):\n",
    "    obj = np.array(list(map(int, input().split())))\n",
    "    q = 0\n",
    "    for j in hypotheses_plus:\n",
    "        if (j <= obj).all():\n",
    "            q = 1\n",
    "    for j in hypotheses_minus:\n",
    "        if (j <= obj).all() and q != 1:\n",
    "            q = -1\n",
    "        elif (j <= obj).all():\n",
    "            q = 2\n",
    "    if q == 1:\n",
    "        print(\"PLUS\")\n",
    "    elif q == -1:\n",
    "        print(\"MINUS\")\n",
    "    else:\n",
    "        print(\"DENIED\")"
   ]
  },
  {
   "cell_type": "markdown",
   "id": "d72a96e2-2f97-4491-8a51-6d3c77ea0e25",
   "metadata": {},
   "source": [
    "#### Пример: Диагностика COVID-19\n",
    "#### Даны два списка пациентов с описанием симптомов каждого. У пациентов первого списка подтверждено заболевание короновирусной инфекцией, у пациентов из второго списка подозрения на короновирус не подтвердились. Цель: выявить те симптомы, которые сильнее других указывают на заболевание короновирусом и поставить диагноз новым пациентам\n",
    "#### Первая таблица - список пациентов с подтвердившимся диагнозом, вторая таблица - список пациентов, чей диагноз не подтвердился"
   ]
  },
  {
   "cell_type": "code",
   "execution_count": null,
   "id": "6c786fde-4fec-4cda-b309-8ed00312f895",
   "metadata": {},
   "outputs": [],
   "source": [
    "example1 = pd.DataFrame({'повышение температуры': ['+', '+', '+', '+', '+', '+', '+', '+', '+', '+', '-', '+'], 'боль в горле': ['+', '+', '-', '+', '-', '+', '+', '+', '+', '-', '+', '+'], 'головная боль': ['-', '-', '+', '+', '+', '-', '+', '+', '-', '-', '-', '+'], 'кашель': ['+', '-', '+', '+', '+', '+', '+', '+', '+', '+', '+', '+'], 'покраснение глаз': ['+', '-', '-', '-', '-', '+', '+', '+', '-', '-', '-', '-'], 'сыпь на коже': ['-', '+', '-', '-', '-', '-', '+', '+', '-', '-', '-', '-'], 'утомляемость': ['+', '+', '+', '+', '-', '-', '+', '+', '+', '+', '+', '-']})\n",
    "example1 = example1.style.set_properties(**{'font-size': '16pt'})\n",
    "example1"
   ]
  },
  {
   "cell_type": "code",
   "execution_count": null,
   "id": "27d6d0b7-7f0c-4267-87e2-b7619c6654e1",
   "metadata": {},
   "outputs": [],
   "source": [
    "example2 = pd.DataFrame({'повышение температуры': ['+', '-', '-', '-', '+', '+', '+', '-', '-'], 'боль в горле': ['-', '-', '-', '-', '+', '-', '-', '-', '+'], 'головная боль': ['-', '+', '-', '-', '-', '-', '-', '+', '-'], 'кашель': ['+', '+', '-', '-', '+', '-', '-', '-', '-'], 'покраснение глаз': ['-', '-', '-', '+', '-', '+', '-', '-', '-'], 'сыпь на коже': ['-', '-', '-', '+', '-', '-', '-', '-', '-'], 'утомляемость': ['-', '-', '+', '-', '-', '-', '-', '-', '-']})\n",
    "example2 = example2.style.set_properties(**{'font-size': '16pt'})\n",
    "example2"
   ]
  },
  {
   "cell_type": "markdown",
   "id": "6157277b-9f25-4870-acfa-e4406f156886",
   "metadata": {},
   "source": [
    "#### Построив две решетки и сформировав гипотезы, получаем 5 положительных гипотез:\n",
    "##### повышение температуры И боль в горле И кашель И покраснение глаз\n",
    "##### повышение температуры И утомляемость\n",
    "##### боль в горле И утомляемость\n",
    "##### кашель И утомляемость\n",
    "##### повышене температуры И головная боль И кашель И утомляемость\n",
    "#### Теперь попробуем поставить диагноз новым пациентам исходя из данных гипотез:"
   ]
  },
  {
   "cell_type": "code",
   "execution_count": null,
   "id": "43e88eb5-125a-43c7-9039-4bd1395b7156",
   "metadata": {},
   "outputs": [],
   "source": [
    "example3 = pd.DataFrame({'повышение температуры': ['+', '+', '+', '-', '+', '+', '-', '-'], 'боль в горле': ['+', '+', '+', '-', '-', '+', '-', '-'], 'головная боль': ['+', '-', '-', '+', '-', '+', '-', '-'], 'кашель': ['+', '-', '-', '+', '-', '+', '-', '+'], 'покраснение глаз': ['-', '+', '-', '-', '-', '+', '-', '+'], 'сыпь на коже': ['-', '+', '-', '-', '-', '-', '+', '-'], 'утомляемость': ['-', '-', '+', '+', '-', '-', '+', '+'], 'ДИАГНОЗ': ['БОЛЕН', 'доп.обследование', 'БОЛЕН', 'БОЛЕН', 'доп.обследование', 'БОЛЕН', 'доп.обследование', 'БОЛЕН']})\n",
    "example3 = example3.style.set_properties(**{'font-size': '16pt'})\n",
    "example3"
   ]
  },
  {
   "cell_type": "markdown",
   "id": "701eec47-f56e-42c2-a754-0b0515e09c80",
   "metadata": {},
   "source": [
    "#### Заметим, что в нашем случае все признаки являются бинарными, и алгоритм объединяет объекты по наличию каких-то общих признаков. Однако заметим, что объекты можно объединить не только на основании того, что они обладают общими признаками, а наоборот, на основании того, что они НЕ обладают какими-то общими признаками. Тогда усовершенствуем алгоритм, увеличив вдвое количество признаков: теперь каждый изначальный признак будет порождать два признака в алгоритме: первый признак - это обладание объектами этим признаком, второй признак - это отсутствие этого признака у объектов. "
   ]
  },
  {
   "cell_type": "code",
   "execution_count": null,
   "id": "5163cfe5-5faf-44bd-8789-3043d78fc615",
   "metadata": {},
   "outputs": [],
   "source": [
    "def f(s, graph):\n",
    "    global ans_graph\n",
    "    global repeat\n",
    "    if s in repeat:\n",
    "        ans_graph = 0\n",
    "        return\n",
    "    for g in graph:\n",
    "        if g[0] == s:\n",
    "            f(g[1], graph)\n",
    "    return\n",
    "\n",
    "\n",
    "n_plus, m_plus = map(int, input().split())\n",
    "mas_plus = np.empty((n_plus, 2 * m_plus), dtype=int)\n",
    "for i in range(n_plus):\n",
    "    tmp = np.array(list(map(int, input().split())))\n",
    "    for j in range(m_plus):\n",
    "        mas_plus[i][2 * j] = tmp[j]\n",
    "        mas_plus[i][2 * j + 1] = 1 - tmp[j]\n",
    "\n",
    "\n",
    "lattice_plus = list([(np.array([], dtype=int), np.array([1 for i in range(2 * m_plus)]))])\n",
    "graph_plus = []\n",
    "hypotheses_plus = np.empty((0, 2 * m_plus))\n",
    "ans_graph = 0\n",
    "current = 1\n",
    "\n",
    "\n",
    "for i in range(1, 1 << n_plus):\n",
    "    vector = np.ones(2 * m_plus, dtype=int)\n",
    "    arr = np.array([], dtype=int)\n",
    "    mis = np.array([], dtype=int)\n",
    "    y = 1\n",
    "    for j in range(n_plus):\n",
    "        if i % (2*y) // y:\n",
    "            vector = np.bitwise_and(vector, mas_plus[j])\n",
    "            arr = np.append(arr, j)\n",
    "        y *= 2\n",
    "    for j in range(n_plus):\n",
    "        if (np.bitwise_and(vector, mas_plus[j]) == vector).all():\n",
    "            mis = np.append(mis, j)\n",
    "    y = 0\n",
    "    if np.array_equal(mis, arr):\n",
    "        repeat = set()\n",
    "        for j in range(len(lattice_plus) - 1, -1, -1):\n",
    "            if set(lattice_plus[j][0]) <= set(arr):\n",
    "                ans_graph = 1\n",
    "                f(j, graph_plus)\n",
    "                yy = ans_graph\n",
    "                if yy:\n",
    "                    graph_plus.append((j, current))\n",
    "                    repeat.add(j)\n",
    "                    y = 1\n",
    "        if y:\n",
    "            lattice_plus.append((arr, vector))\n",
    "            current += 1\n",
    "\n",
    "\n",
    "n_minus, m_minus = map(int, input().split())\n",
    "mas_minus = np.empty((n_minus, 2 * m_minus), dtype=int)\n",
    "for i in range(n_minus):\n",
    "    tmp = np.array(list(map(int, input().split())))\n",
    "    for j in range(m_minus):\n",
    "        mas_minus[i][2 * j] = tmp[j]\n",
    "        mas_minus[i][2 * j + 1] = 1 - tmp[j]\n",
    "\n",
    "\n",
    "lattice_minus = list([(np.array([], dtype=int), np.array([1 for i in range(2 * m_minus)]))])\n",
    "graph_minus = []\n",
    "hypotheses_minus = np.empty((0, 2 * m_minus))\n",
    "ans_graph = 0\n",
    "current = 1\n",
    "\n",
    "\n",
    "for i in range(1, 1 << n_minus):\n",
    "    vector = np.ones(2 * m_minus, dtype=int)\n",
    "    arr = np.array([], dtype=int)\n",
    "    mis = np.array([], dtype=int)\n",
    "    y = 1\n",
    "    for j in range(n_minus):\n",
    "        if i % (2*y) // y:\n",
    "            vector = np.bitwise_and(vector, mas_minus[j])\n",
    "            arr = np.append(arr, j)\n",
    "        y *= 2\n",
    "    for j in range(n_minus):\n",
    "        if (np.bitwise_and(vector, mas_minus[j]) == vector).all():\n",
    "            mis = np.append(mis, j)\n",
    "    y = 0\n",
    "    if np.array_equal(mis, arr):\n",
    "        repeat = set()\n",
    "        for j in range(len(lattice_minus) - 1, -1, -1):\n",
    "            if set(lattice_minus[j][0]) <= set(arr):\n",
    "                ans_graph = 1\n",
    "                f(j, graph_minus)\n",
    "                yy = ans_graph\n",
    "                if yy:\n",
    "                    graph_minus.append((j, current))\n",
    "                    repeat.add(j)\n",
    "                    y = 1\n",
    "        if y:\n",
    "            lattice_minus.append((arr, vector))\n",
    "            current += 1\n",
    "\n",
    "\n",
    "for_delete = set()\n",
    "for i in lattice_plus[1:]:\n",
    "    hypotheses_plus = np.vstack((hypotheses_plus, i[1]))\n",
    "for i in range(len(hypotheses_plus)):\n",
    "    for j in lattice_minus[1:]:\n",
    "        if (hypotheses_plus[i] <= j[1]).all():\n",
    "            for_delete.add(i)\n",
    "for_delete = sorted(list(for_delete))\n",
    "for i in for_delete[::-1]:\n",
    "    hypotheses_plus = np.delete(hypotheses_plus, i, 0)\n",
    "for_delete = set()\n",
    "for i in range(len(hypotheses_plus)):\n",
    "    for j in range(len(hypotheses_plus)):\n",
    "        if i != j and (hypotheses_plus[i] >= hypotheses_plus[j]).all():\n",
    "            for_delete.add(i)\n",
    "for_delete = sorted(list(for_delete))\n",
    "for i in for_delete[::-1]:\n",
    "    hypotheses_plus = np.delete(hypotheses_plus, i, 0)\n",
    "\n",
    "\n",
    "for_delete = set()\n",
    "for i in lattice_minus[1:]:\n",
    "    hypotheses_minus = np.vstack((hypotheses_minus, i[1]))\n",
    "for i in range(len(hypotheses_minus)):\n",
    "    for j in lattice_plus[1:]:\n",
    "        if (hypotheses_minus[i] <= j[1]).all():\n",
    "            for_delete.add(i)\n",
    "for_delete = sorted(list(for_delete))\n",
    "for i in for_delete[::-1]:\n",
    "    hypotheses_minus = np.delete(hypotheses_minus, i, 0)\n",
    "for_delete = set()\n",
    "for i in range(len(hypotheses_minus)):\n",
    "    for j in range(len(hypotheses_minus)):\n",
    "        if i != j and (hypotheses_minus[i] >= hypotheses_minus[j]).all():\n",
    "            for_delete.add(i)\n",
    "for_delete = sorted(list(for_delete))\n",
    "for i in for_delete[::-1]:\n",
    "    hypotheses_minus = np.delete(hypotheses_minus, i, 0)\n",
    "\n",
    "\n",
    "num = int(input())\n",
    "for i in range(num):\n",
    "    obj = np.empty((2 * m_plus), dtype=int)\n",
    "    tmp = np.array(list(map(int, input().split())))\n",
    "    for j in range(m_plus):\n",
    "        obj[2 * j] = tmp[j]\n",
    "        obj[2 * j + 1] = 1 - tmp[j]\n",
    "    q = 0\n",
    "    for j in hypotheses_plus:\n",
    "        if (j <= obj).all():\n",
    "            q = 1\n",
    "    for j in hypotheses_minus:\n",
    "        if (j <= obj).all() and q != 1:\n",
    "            q = -1\n",
    "        elif (j <= obj).all():\n",
    "            q = 2\n",
    "    if q == 1:\n",
    "        print(\"PLUS\")\n",
    "    elif q == -1:\n",
    "        print(\"MINUS\")\n",
    "    else:\n",
    "        print(\"DENIED\")"
   ]
  },
  {
   "cell_type": "markdown",
   "id": "52cf4fd9-14ed-4d85-92ee-6825fa840a6e",
   "metadata": {},
   "source": [
    "#### Теперь для каждого объекта его вектор признаков будет наполовину состоять из единиц и наполовину из нулей. Это позволяет сформировать полноценные гипотезы для обоих классов, и, следовательно, данный алгоритм можно применять уже к бОльшему количеству задач. Мы рассматривали пример, где гипотезы формируются только у одного класса, поскольку у второго класса гипотез фактически нет. Рассмотрим пример, где гипотезы есть у обоих классов"
   ]
  },
  {
   "cell_type": "markdown",
   "id": "11194a14-be54-4ca4-b099-f1b3190fd248",
   "metadata": {},
   "source": [
    "### Пример: Отзывы на фильм\n",
    "#### Даны два списка отзывов на фильм и некоторые ключевые слова. Про каждый отзыв известно, включает он в себя ключевые слова или нет. Отзывы из первого списка классифицируются как положительные, а отзывы из второго - как отрицательные. Необходимо выявить, какие слова указывают на положительные или отрицательный отзыв и классифицировать новые отызвы\n",
    "#### Первая таблица - положительные отзывы, вторая - отрицательные"
   ]
  },
  {
   "cell_type": "code",
   "execution_count": null,
   "id": "65e3e857-8185-44fc-9150-9b1c422f826a",
   "metadata": {},
   "outputs": [],
   "source": [
    "example7 = pd.DataFrame({'доволен': ['+', '+', '+', '-', '-', '+', '+', '+', '+', '+', '-', '+'], 'разочарован': ['-', '-', '-', '-', '-', '-', '-', '+', '-', '+', '-', '-'], 'рекомендую': ['+', '-', '+', '-', '+', '-', '-', '-', '+', '+', '+', '+'], 'тратить': ['-', '-', '-', '-', '-', '-', '-', '-', '+', '-', '-', '-'], 'советую': ['+', '+', '+', '+', '+', '-', '+', '+', '+', '+', '+', '+'], 'отзыв': ['-', '+', '+', '+', '-', '-', '-', '-', '-', '+', '-', '+'], 'кинофестиваль': ['+', '-', '+', '-', '+', '+', '-', '-', '-', '+', '+', '-'], 'кинокритик': ['+', '+', '-', '-', '+', '+', '-', '+', '-', '+', '-', '+']})\n",
    "example7 = example7.style.set_properties(**{'font-size': '16pt'})\n",
    "example7"
   ]
  },
  {
   "cell_type": "code",
   "execution_count": null,
   "id": "af1c3342-487c-4f07-a288-91b2b050c032",
   "metadata": {},
   "outputs": [],
   "source": [
    "example8 = pd.DataFrame({'доволен': ['-', '-', '-', '-', '-', '-', '+', '+', '-', '-', '-', '-'], 'разочарован': ['+', '+', '+', '-', '+', '+', '+', '+', '+', '-', '+', '+'], 'рекомендую': ['-', '-', '-', '-', '-', '-', '-', '-', '-', '-', '-', '+'], 'тратить': ['+', '+', '+', '+', '-', '-', '+', '+', '-', '+', '+', '+'], 'советую': ['-', '-', '-', '-', '-', '-', '-', '-', '+', '-', '+', '-'], 'отзыв': ['-', '-', '-', '-', '-', '-', '+', '-', '-', '-', '-', '-'], 'кинофестиваль': ['-', '-', '+', '-', '-', '+', '-', '+', '-', '+', '+', '-'], 'кинокритик': ['-', '+', '-', '-', '+', '+', '-', '+', '-', '-', '+', '+']})\n",
    "example8 = example8.style.set_properties(**{'font-size': '16pt'})\n",
    "example8"
   ]
  },
  {
   "cell_type": "markdown",
   "id": "bc3e9242-1b10-42dd-b07f-1d1f1029ddf6",
   "metadata": {},
   "source": [
    "#### Построив две решетки и сформулировав гипотезы, мы получаем куда бОльшее количество гипотез, чем в первой части: 8 положительных и 12 отрицательных гипотез\n",
    "#### Положительные гипотезы:\n",
    "##### доволен И НЕ разочарован\n",
    "##### НЕ тратить И советую И отзыв\n",
    "##### НЕ тратить И советую И кинокритик\n",
    "##### доволен И НЕ тратить\n",
    "##### доволен И советую\n",
    "##### НЕ разочарован И НЕ тратить\n",
    "##### НЕ разочарован И советую\n",
    "##### рекомендую И советую\n",
    "#### Отрицательные гипотезы:\n",
    "##### разочарован И НЕ рекомендую И НЕ кинокритик\n",
    "##### разочарован И НЕ рекомендую И НЕ отзыв И кинофестиваль\n",
    "##### НЕ рекомендую И тратить\n",
    "##### НЕ доволен И НЕ рекомендую И НЕ отзыв\n",
    "##### НЕ советую И НЕ кинофестиваль\n",
    "##### разочарован И НЕ советую\n",
    "##### НЕ доволен И НЕ отзыв И НЕ кинофестиваль\n",
    "##### НЕ доволен И НЕ советую И НЕ отзыв\n",
    "##### тратить И НЕ советую\n",
    "##### разочарован И тратить\n",
    "##### НЕ доволен И разочарован И НЕ отзыв\n",
    "##### НЕ доволен И тратить И НЕ отзыв"
   ]
  },
  {
   "cell_type": "code",
   "execution_count": null,
   "id": "cf7e653d-7978-4457-b77c-e35341ff9752",
   "metadata": {},
   "outputs": [],
   "source": [
    "example9 = pd.DataFrame({'доволен': ['+', '+', '+', '-', '-', '-', '+', '-'], 'разочарован': ['-', '-', '-', '+', '+', '-', '+', '-'], 'рекомендую': ['+', '-', '-', '-', '-', '-', '+', '-'], 'тратить': ['-', '-', '-', '+', '-', '-', '+', '-'], 'советую': ['+', '-', '-', '-', '-', '-', '+', '-'], 'отзыв': ['+', '-', '-', '-', '-', '-', '+', '+'], 'кинофестиваль': ['+', '+', '-', '-', '-', '-', '+', '+'], 'кинокритик': ['+', '+', '-', '-', '-', '-', '+', '+'], 'ВЫВОД': ['положительный', 'положительный', 'нейтральный', 'отрицательный', 'отрицательный', 'отрицательный', 'нейтральный', 'положительный']})\n",
    "example9 = example9.style.set_properties(**{'font-size': '16pt'})\n",
    "example9"
   ]
  },
  {
   "cell_type": "markdown",
   "id": "096ff7c3-5311-4279-8111-922a1adde830",
   "metadata": {},
   "source": [
    "#### Как видно из таблицы, получилось, что отзыв,  не содержащий ни одного ключевого слова, классифицировался алгоритмом как отрицательный, а отзыв, содержащий все ключевые слова, как нейтральный (то есть этот отзыв не был отнесен ни к одному из классов, так как содержит и положительные, и отрицательные гипотезы). Заметим также, что отзыв, не содержащий ни одного слова, прямо указывающего на отношение автора к фильму (например, доволен или разочарован), и содержащий все нейтральные слова (отзыв, кинофестиваль, кинокртик), был классифицирован как положительный"
   ]
  },
  {
   "cell_type": "code",
   "execution_count": null,
   "id": "34bb619f-5004-4620-b451-5ed760b41074",
   "metadata": {},
   "outputs": [],
   "source": []
  }
 ],
 "metadata": {
  "kernelspec": {
   "display_name": "Python 3",
   "language": "python",
   "name": "python3"
  },
  "language_info": {
   "codemirror_mode": {
    "name": "ipython",
    "version": 3
   },
   "file_extension": ".py",
   "mimetype": "text/x-python",
   "name": "python",
   "nbconvert_exporter": "python",
   "pygments_lexer": "ipython3",
   "version": "3.8.8"
  }
 },
 "nbformat": 4,
 "nbformat_minor": 5
}
